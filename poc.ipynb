{
 "cells": [
  {
   "cell_type": "markdown",
   "metadata": {},
   "source": [
    "<p align=\"center\">\n",
    "  <img src=\"./imgs/01.png\" alt=\"imagen01\" />\n",
    "</p>"
   ]
  },
  {
   "cell_type": "markdown",
   "metadata": {},
   "source": [
    "<p align=\"center\">\n",
    "  <img src=\"./imgs/02.png\" alt=\"imagen02\" />\n",
    "</p>"
   ]
  },
  {
   "cell_type": "markdown",
   "metadata": {},
   "source": [
    "<p align=\"center\">\n",
    "  <img src=\"./imgs/03.png\" alt=\"imagen03\" />\n",
    "</p>"
   ]
  },
  {
   "cell_type": "markdown",
   "metadata": {},
   "source": [
    "<p align=\"center\">\n",
    "  <img src=\"./imgs/04.png\" alt=\"imagen04\" />\n",
    "</p>"
   ]
  },
  {
   "cell_type": "markdown",
   "metadata": {},
   "source": [
    "<p align=\"center\">\n",
    "  <img src=\"./imgs/05.png\" alt=\"imagen05\" />\n",
    "</p>"
   ]
  },
  {
   "cell_type": "markdown",
   "metadata": {},
   "source": [
    "<p align=\"center\">\n",
    "  <img src=\"./imgs/06.png\" alt=\"imagen06\" />\n",
    "</p>"
   ]
  },
  {
   "cell_type": "markdown",
   "metadata": {},
   "source": [
    "<p align=\"center\">\n",
    "  <img src=\"./imgs/07.png\" alt=\"imagen07\" />\n",
    "</p>"
   ]
  },
  {
   "cell_type": "markdown",
   "metadata": {},
   "source": [
    "<p align=\"center\">\n",
    "  <img src=\"./imgs/08.png\" alt=\"imagen08\" />\n",
    "</p>"
   ]
  },
  {
   "cell_type": "markdown",
   "metadata": {},
   "source": [
    "<p align=\"center\">\n",
    "  <img src=\"./imgs/09.png\" alt=\"imagen09\" />\n",
    "</p>"
   ]
  },
  {
   "cell_type": "markdown",
   "metadata": {},
   "source": [
    "<p align=\"center\">\n",
    "  <img src=\"./imgs/10.png\" alt=\"imagen10\" />\n",
    "</p>"
   ]
  },
  {
   "cell_type": "markdown",
   "metadata": {},
   "source": [
    "<p align=\"center\">\n",
    "  <img src=\"./imgs/11.png\" alt=\"imagen11\" />\n",
    "</p>"
   ]
  },
  {
   "cell_type": "markdown",
   "metadata": {},
   "source": [
    "<p align=\"center\">\n",
    "  <img src=\"./imgs/12.png\" alt=\"imagen12\" />\n",
    "</p>"
   ]
  },
  {
   "cell_type": "markdown",
   "metadata": {},
   "source": [
    "# Desarrollo de la Solución Propuesta"
   ]
  },
  {
   "cell_type": "code",
   "execution_count": 1,
   "metadata": {},
   "outputs": [],
   "source": [
    "# Se importan a continuación las librerías requeridas para esta aplicación:\n",
    "\n",
    "from io import StringIO, BytesIO\n",
    "import pandas as pd\n",
    "import requests\n",
    "import json\n",
    "import io\n"
   ]
  },
  {
   "cell_type": "code",
   "execution_count": 2,
   "metadata": {},
   "outputs": [],
   "source": [
    "# Se definen a continuación las variables para correr la aplicación:\n",
    "fecha_inicio=\"2024-07-09\" # define la fecha inicial desde la cual se solicita información de archivos de XM\n",
    "fecha_fin=\"2024-07-20\"    # define la fecha final hasta la cual se solicita información de archivos de XM\n",
    "file_id = '' # acceso para descarga de archivos de las empresas generadoras\n",
    "\n",
    "# llaves para conexión por API a XM para cargar balance de energia\n",
    "api_key_1=\"\"\n",
    "api_key_2=\"\""
   ]
  },
  {
   "cell_type": "markdown",
   "metadata": {},
   "source": [
    "# Paso 1: Extracciones"
   ]
  },
  {
   "cell_type": "markdown",
   "metadata": {},
   "source": [
    "### Precios Bolsa"
   ]
  },
  {
   "cell_type": "code",
   "execution_count": 3,
   "metadata": {},
   "outputs": [],
   "source": [
    "# Se consumen los datos desde la página de XM para el archivo de precios de bolsa:\n",
    "\n",
    "url = f\"https://www.simem.co/backend-files/api/PublicData?startDate={fecha_inicio}&endDate={fecha_fin}&datasetId=96D56E\"\n",
    "response = requests.get(url)\n",
    "\n",
    "# Verificar si la solicitud fue exitosa\n",
    "if response.status_code == 200:\n",
    "    content_type = response.headers['Content-Type']\n",
    "    #print(f\"El archivo descargado es de tipo: {content_type}\")\n",
    "else:\n",
    "    print(\"Error al descargar el archivo:\", response.status_code)\n"
   ]
  },
  {
   "cell_type": "code",
   "execution_count": 4,
   "metadata": {},
   "outputs": [],
   "source": [
    "#Se crea la variable data para almacenar el archivo json descargado desde XM. Luego se toman los datos \"recors\" del campo\n",
    "#results y se crea, finalmente, el dataframe que contiene la información requeridad de precios de bolsa.\n",
    "\n",
    "data = response.json()\n",
    "records = data.get('result', {}).get('records', [])\n",
    "dfPreciosBolsa = pd.DataFrame(records)        "
   ]
  },
  {
   "cell_type": "markdown",
   "metadata": {},
   "source": [
    "### Plan de Despacho (Compromisos)"
   ]
  },
  {
   "cell_type": "code",
   "execution_count": 5,
   "metadata": {},
   "outputs": [],
   "source": [
    "#Se consumen los datos desde la página de XM para determinar los compromisos de despacho:\n",
    "\n",
    "url = f\"https://www.simem.co/backend-files/api/PublicData?startdate={fecha_inicio}&enddate={fecha_fin}&datasetId=ff027b\"\n",
    "response = requests.get(url)\n",
    "\n",
    "# Verificar si la solicitud fue exitosa\n",
    "if response.status_code == 200:\n",
    "    content_type = response.headers['Content-Type']\n",
    "    #print(f\"El archivo descargado es de tipo: {content_type}\")\n",
    "else:\n",
    "    print(\"Error al descargar el archivo:\", response.status_code)\n",
    "    "
   ]
  },
  {
   "cell_type": "code",
   "execution_count": 6,
   "metadata": {},
   "outputs": [],
   "source": [
    "#Se crea la variable data para almacenar el archivo json descargado desde XM. Luego se toman los datos \"records\" del campo\n",
    "#results y se crea, finalmente, el dataframe que contiene la información requeridad de compromisos de despacho.\n",
    "\n",
    "data = response.json()\n",
    "records = data.get('result', {}).get('records', [])\n",
    "dfCompriso = pd.DataFrame(records)        "
   ]
  },
  {
   "cell_type": "markdown",
   "metadata": {},
   "source": [
    "### Capacidad Generadores"
   ]
  },
  {
   "cell_type": "code",
   "execution_count": 7,
   "metadata": {},
   "outputs": [],
   "source": [
    "#En este apartado se hace el simil de descarga de la capacidad de despacho desde el generador(es) y se crea el dataframe de capacidad\n",
    "\n",
    "url = f\"https://drive.google.com/uc?id={file_id}\"\n",
    "\n",
    "response = requests.get(url)\n",
    "\n",
    "dfCapacidad = pd.read_excel(BytesIO(response.content), header=5)\n"
   ]
  },
  {
   "cell_type": "markdown",
   "metadata": {},
   "source": [
    "# Paso 2: Transformaciones"
   ]
  },
  {
   "cell_type": "markdown",
   "metadata": {},
   "source": [
    "En este apartado se realizará las acciones de limpieza, eliminación de datos nulos, eliminación de datos no relevantes y las adecuaciones necesarias para poder hacer operaciones conjuntas necesarias entre los diferentes datasets (dataframes)"
   ]
  },
  {
   "cell_type": "markdown",
   "metadata": {},
   "source": [
    "Se inicia con la homologación de nombres de columnas para los dataframes:\n",
    "\n",
    "dfPreciosBolda:\n",
    "-fecha: Fecha\n",
    "\n",
    "dfDespachoUnidades:\n",
    "-FechaHora: Fecha\n",
    "-Valor: Compromiso(Kwh)\n",
    "\n",
    "dfArchivoCapacidad:\n",
    "-CODIGO: CodigoPlanta"
   ]
  },
  {
   "cell_type": "code",
   "execution_count": 8,
   "metadata": {},
   "outputs": [],
   "source": [
    "dfPreciosBolsa = dfPreciosBolsa.rename(columns={\n",
    "    'fecha': 'Fecha'\n",
    "})\n",
    "\n",
    "dfCompriso = dfCompriso.rename(columns={\n",
    "    'FechaHora': 'Fecha',\n",
    "    'Valor': 'Compromiso (Kwh)'\n",
    "})\n",
    "\n",
    "dfCapacidad = dfCapacidad.rename(columns={\n",
    "    'CODIGO': 'CodigoPlanta',\n",
    "    'FECHA': 'Fecha',\n",
    "    'CAPACIDAD (Kwh)': 'Capacidad (Kwh)'\n",
    "})"
   ]
  },
  {
   "cell_type": "code",
   "execution_count": 9,
   "metadata": {},
   "outputs": [],
   "source": [
    "#Se elimina columna en dfArchivo capacidad que no tiene utilidad:\n",
    "\n",
    "dfCapacidad = dfCapacidad.drop(columns=['Unnamed: 0'])"
   ]
  },
  {
   "cell_type": "code",
   "execution_count": 10,
   "metadata": {},
   "outputs": [],
   "source": [
    "# Se eliminan valores nulos:\n",
    "\n",
    "dfPreciosBolsa.dropna();\n",
    "dfCompriso.dropna();\n",
    "dfCapacidad.dropna();"
   ]
  },
  {
   "cell_type": "code",
   "execution_count": 11,
   "metadata": {},
   "outputs": [],
   "source": [
    "#Se homologan los fomatos de fecha:\n",
    "\n",
    "dfPreciosBolsa[\"Fecha\"] = pd.to_datetime(dfPreciosBolsa[\"Fecha\"])\n",
    "dfCompriso[\"Fecha\"] = pd.to_datetime(dfCompriso[\"Fecha\"])\n",
    "dfCapacidad[\"Fecha\"] = pd.to_datetime(dfCapacidad[\"Fecha\"])"
   ]
  },
  {
   "cell_type": "code",
   "execution_count": 12,
   "metadata": {},
   "outputs": [],
   "source": [
    "#Se seleccionan los generadores correspondientes  al comercializadora ACME SAS\n",
    "\n",
    "codigos_filtrar = ['ZPA2', 'ZPA3', 'ZPA4', 'ZPA5', 'GVIO', 'QUI1', 'CHVR']\n",
    "\n",
    "dfCompromisoFiltrado = dfCompriso[dfCompriso['CodigoPlanta'].isin(codigos_filtrar)]\n",
    "\n",
    "dfCapacidadFiltrado = dfCapacidad[dfCapacidad['CodigoPlanta'].isin(codigos_filtrar)]"
   ]
  },
  {
   "cell_type": "code",
   "execution_count": 13,
   "metadata": {},
   "outputs": [],
   "source": [
    "# Se continua con la consolidación, en los dataframes, por fecha y unidad generadora (CodigoPlanta) y se totalizan las capacidades y los compromisos:\n",
    "\n",
    "# Se convierte la columna Fecha solo a Fecha sin hora para poder agrupar\n",
    "\n",
    "dfCapacidadFiltrado.loc[:, 'Fecha'] = dfCapacidadFiltrado['Fecha'].dt.date # se usa .loc para evitar el warning\n",
    "dfCompromisoFiltrado.loc[:, 'Fecha'] = dfCompromisoFiltrado['Fecha'].dt.date # se usa .loc para evitar el warning\n",
    "\n",
    "\n",
    "\n",
    "dfCapacidadAgrupado = dfCapacidadFiltrado.groupby(['CodigoPlanta', 'Fecha'])['Capacidad (Kwh)'].sum().reset_index()\n",
    "\n",
    "\n",
    "dfCompromisoAgrupado = dfCompromisoFiltrado.groupby(['CodigoPlanta', 'Fecha'])['Compromiso (Kwh)'].sum().reset_index()\n"
   ]
  },
  {
   "cell_type": "code",
   "execution_count": 14,
   "metadata": {},
   "outputs": [],
   "source": [
    "#Se realiza a continuación el balance entre capacidad y compromiso:\n",
    "\n",
    "dfBalance = pd.merge(dfCapacidadAgrupado, dfCompromisoAgrupado, on=['CodigoPlanta', 'Fecha'], how='left')\n",
    "\n",
    "dfBalance['Compromiso (Kwh)'] = dfBalance['Compromiso (Kwh)'].dropna()\n",
    "\n",
    "\n",
    "# Crear la nueva columna 'Consolidado Planta' restando las capacidades\n",
    "dfBalance['Consolidado (Kwh)'] = dfBalance['Capacidad (Kwh)'] - dfBalance['Compromiso (Kwh)']\n",
    "\n",
    "dfBalance[\"Fecha\"] = pd.to_datetime(dfBalance[\"Fecha\"])"
   ]
  },
  {
   "cell_type": "code",
   "execution_count": 15,
   "metadata": {},
   "outputs": [],
   "source": [
    "#Ahora se hace el balance valorizando la consolidación:\n",
    "\n",
    "dfPreciosFiltrado = dfPreciosBolsa[(dfPreciosBolsa['CodigoVariable'] == 'PPBOGReal') & (dfPreciosBolsa['Version'] == 'TXR')]\n",
    "\n",
    "# Hacer el merge de dfBalance con dfPreciosFiltrado en la columna 'fecha'\n",
    "dfBalanceConPrecios = pd.merge(dfBalance, dfPreciosFiltrado[['Fecha', 'Valor']], on='Fecha', how='left')\n",
    "\n",
    "# Crear la nueva columna 'Compromisos_MCOP' multiplicando 'Consolidado Planta' por 'Valor'\n",
    "dfBalanceConPrecios['Compromisos_MMCOP'] = dfBalanceConPrecios['Consolidado (Kwh)'] * dfBalanceConPrecios['Valor']/1000000\n",
    "\n"
   ]
  },
  {
   "cell_type": "code",
   "execution_count": 16,
   "metadata": {},
   "outputs": [],
   "source": [
    "# Finalmente, se da la indicación explicita de compra o venta de energía\n",
    "\n",
    "dfBalanceConPrecios['Operación'] = dfBalanceConPrecios['Compromisos_MMCOP'].apply(lambda x: 'Compra' if x < 0 else 'Vender')\n",
    "\n",
    "\n"
   ]
  },
  {
   "cell_type": "code",
   "execution_count": 17,
   "metadata": {},
   "outputs": [
    {
     "data": {
      "text/html": [
       "<div>\n",
       "<style scoped>\n",
       "    .dataframe tbody tr th:only-of-type {\n",
       "        vertical-align: middle;\n",
       "    }\n",
       "\n",
       "    .dataframe tbody tr th {\n",
       "        vertical-align: top;\n",
       "    }\n",
       "\n",
       "    .dataframe thead th {\n",
       "        text-align: right;\n",
       "    }\n",
       "</style>\n",
       "<table border=\"1\" class=\"dataframe\">\n",
       "  <thead>\n",
       "    <tr style=\"text-align: right;\">\n",
       "      <th></th>\n",
       "      <th>CodigoPlanta</th>\n",
       "      <th>Fecha</th>\n",
       "      <th>Capacidad (Kwh)</th>\n",
       "      <th>Compromiso (Kwh)</th>\n",
       "      <th>Consolidado (Kwh)</th>\n",
       "      <th>Valor</th>\n",
       "      <th>Compromisos_MMCOP</th>\n",
       "      <th>Operación</th>\n",
       "    </tr>\n",
       "  </thead>\n",
       "  <tbody>\n",
       "    <tr>\n",
       "      <th>0</th>\n",
       "      <td>GVIO</td>\n",
       "      <td>2024-07-10</td>\n",
       "      <td>24230440</td>\n",
       "      <td>12724160.0</td>\n",
       "      <td>11506280.0</td>\n",
       "      <td>219.7562</td>\n",
       "      <td>2528.576369</td>\n",
       "      <td>Vender</td>\n",
       "    </tr>\n",
       "    <tr>\n",
       "      <th>1</th>\n",
       "      <td>QUI1</td>\n",
       "      <td>2024-07-10</td>\n",
       "      <td>6570384</td>\n",
       "      <td>2962970.0</td>\n",
       "      <td>3607414.0</td>\n",
       "      <td>219.7562</td>\n",
       "      <td>792.751592</td>\n",
       "      <td>Vender</td>\n",
       "    </tr>\n",
       "    <tr>\n",
       "      <th>2</th>\n",
       "      <td>ZPA2</td>\n",
       "      <td>2024-07-10</td>\n",
       "      <td>655706</td>\n",
       "      <td>454000.0</td>\n",
       "      <td>201706.0</td>\n",
       "      <td>219.7562</td>\n",
       "      <td>44.326144</td>\n",
       "      <td>Vender</td>\n",
       "    </tr>\n",
       "    <tr>\n",
       "      <th>3</th>\n",
       "      <td>ZPA3</td>\n",
       "      <td>2024-07-10</td>\n",
       "      <td>467348</td>\n",
       "      <td>748000.0</td>\n",
       "      <td>-280652.0</td>\n",
       "      <td>219.7562</td>\n",
       "      <td>-61.675017</td>\n",
       "      <td>Compra</td>\n",
       "    </tr>\n",
       "    <tr>\n",
       "      <th>4</th>\n",
       "      <td>ZPA4</td>\n",
       "      <td>2024-07-10</td>\n",
       "      <td>544688</td>\n",
       "      <td>748000.0</td>\n",
       "      <td>-203312.0</td>\n",
       "      <td>219.7562</td>\n",
       "      <td>-44.679073</td>\n",
       "      <td>Compra</td>\n",
       "    </tr>\n",
       "  </tbody>\n",
       "</table>\n",
       "</div>"
      ],
      "text/plain": [
       "  CodigoPlanta      Fecha  Capacidad (Kwh)  Compromiso (Kwh)  \\\n",
       "0         GVIO 2024-07-10         24230440        12724160.0   \n",
       "1         QUI1 2024-07-10          6570384         2962970.0   \n",
       "2         ZPA2 2024-07-10           655706          454000.0   \n",
       "3         ZPA3 2024-07-10           467348          748000.0   \n",
       "4         ZPA4 2024-07-10           544688          748000.0   \n",
       "\n",
       "   Consolidado (Kwh)     Valor  Compromisos_MMCOP Operación  \n",
       "0         11506280.0  219.7562        2528.576369    Vender  \n",
       "1          3607414.0  219.7562         792.751592    Vender  \n",
       "2           201706.0  219.7562          44.326144    Vender  \n",
       "3          -280652.0  219.7562         -61.675017    Compra  \n",
       "4          -203312.0  219.7562         -44.679073    Compra  "
      ]
     },
     "execution_count": 17,
     "metadata": {},
     "output_type": "execute_result"
    }
   ],
   "source": [
    "dfBalanceConPrecios.head()"
   ]
  },
  {
   "cell_type": "code",
   "execution_count": 18,
   "metadata": {},
   "outputs": [],
   "source": [
    "dfBalanceConPrecios['Valor'] = dfBalanceConPrecios['Valor'].round(2)\n",
    "dfBalanceConPrecios['Compromisos_MMCOP'] = dfBalanceConPrecios['Compromisos_MMCOP'].round(2)"
   ]
  },
  {
   "cell_type": "markdown",
   "metadata": {},
   "source": [
    "Ahora, previo a la etapa de carga de la información, se crea el archivo csv que será transferido"
   ]
  },
  {
   "cell_type": "code",
   "execution_count": 19,
   "metadata": {},
   "outputs": [
    {
     "name": "stdout",
     "output_type": "stream",
     "text": [
      "CodigoPlanta,Fecha,Capacidad (Kwh),Compromiso (Kwh),Consolidado (Kwh),Valor,Compromisos_MMCOP,Operación\n",
      "GVIO,2024-07-10,24230440,12724160.0,11506280.0,219.76,2528.58,Vender\n",
      "QUI1,2024-07-10,6570384,2962970.0,3607414.0,219.76,792.75,Vender\n",
      "ZPA2,2024-07-10,655706,454000.0,201706.0,219.76,44.33,Vender\n",
      "ZPA3,2024-07-10,467348,748000.0,-280652.0,219.76,-61.68,Compra\n",
      "ZPA4,2024-07-10,544688,748000.0,-203312.0,219.76,-44.68,Compra\n",
      "ZPA5,2024-07-10,385940,748000.0,-362060.0,219.76,-79.56,Compra\n",
      "\n"
     ]
    }
   ],
   "source": [
    "# Este archivo no se descargará. se creará en memoria para la operación de carga\n",
    "csv_buffer = io.StringIO()\n",
    "\n",
    "dfBalanceConPrecios.to_csv(csv_buffer, index=False)\n",
    "\n",
    "csv_data = csv_buffer.getvalue()\n",
    "\n",
    "# Se visualiza a continuación el contenido\n",
    "print(csv_data)"
   ]
  },
  {
   "cell_type": "markdown",
   "metadata": {},
   "source": [
    "## Paso 3:  Carga (Transferencia a XM)"
   ]
  },
  {
   "cell_type": "code",
   "execution_count": 20,
   "metadata": {},
   "outputs": [],
   "source": [
    "#Se emplean las instrucciones para hacer la carga de la información mediante API\n",
    "\n",
    "file_upload_access_token = \"\"\n",
    "file_upload_account_id = \"\"\n",
    "params = {'key1': api_key_1, 'key2': api_key_2}\n",
    "response=requests.get(\"https://fastupload.io/api/v2/authorize\", params)\n",
    "json_response = json.loads(response.text)\n",
    "try:\n",
    "  file_upload_access_token = json_response[\"data\"][\"access_token\"]\n",
    "  file_upload_account_id = json_response[\"data\"][\"account_id\"]\n",
    "except:\n",
    "  print(\"Error autenticando y autorizando en el servicio remoto de carga de archivos.\")"
   ]
  },
  {
   "cell_type": "code",
   "execution_count": 21,
   "metadata": {},
   "outputs": [
    {
     "name": "stdout",
     "output_type": "stream",
     "text": [
      "Status: success\n",
      "Datetime: 2024-09-05 20:16:02\n"
     ]
    }
   ],
   "source": [
    "upload_folder_id = \"\"  # Si tienes un folder ID\n",
    "\n",
    "# Crear el archivo en memoria a partir de 'csv_data'\n",
    "csv_in_memory = io.BytesIO(csv_data.encode('utf-8'))  # Convertir csv_data a bytes\n",
    "\n",
    "# Configurar los archivos a subir\n",
    "files = {\"upload_file\": (\"dfReporteCompraVentaEnergiaAcme.csv\", csv_in_memory, 'text/csv')}  # Nombrar el archivo\n",
    "\n",
    "# Datos para la solicitud\n",
    "data = {\n",
    "    \"access_token\": file_upload_access_token,\n",
    "    \"account_id\": file_upload_account_id,\n",
    "    \"folder_id\": upload_folder_id  # Agregar folder_id si es necesario\n",
    "}\n",
    "\n",
    "# Enviar la solicitud POST a la API\n",
    "response = requests.post(\"https://fastupload.io/api/v2/file/upload\", files=files, data=data)\n",
    "\n",
    "json_response = response.json()\n",
    "\n",
    "# Extraer solo _status y _datetime\n",
    "status = json_response.get('_status')\n",
    "datetime = json_response.get('_datetime')\n",
    "\n",
    "# Mostrar el resultado\n",
    "print(f\"Status: {status}\")\n",
    "print(f\"Datetime: {datetime}\")\n"
   ]
  }
 ],
 "metadata": {
  "kernelspec": {
   "display_name": "Python 3",
   "language": "python",
   "name": "python3"
  },
  "language_info": {
   "codemirror_mode": {
    "name": "ipython",
    "version": 3
   },
   "file_extension": ".py",
   "mimetype": "text/x-python",
   "name": "python",
   "nbconvert_exporter": "python",
   "pygments_lexer": "ipython3",
   "version": "3.10.12"
  }
 },
 "nbformat": 4,
 "nbformat_minor": 2
}
